{
 "cells": [
  {
   "cell_type": "markdown",
   "id": "6ffbf906",
   "metadata": {},
   "source": [
    "#Uber Ride Cancellation Analyst\n",
    "\n"
   ]
  },
  {
   "cell_type": "markdown",
   "id": "a0870cd1",
   "metadata": {},
   "source": [
    "###Read and Clean Data"
   ]
  },
  {
   "cell_type": "code",
   "execution_count": 66,
   "id": "813c9cce",
   "metadata": {},
   "outputs": [
    {
     "data": {
      "text/html": [
       "<div>\n",
       "<style scoped>\n",
       "    .dataframe tbody tr th:only-of-type {\n",
       "        vertical-align: middle;\n",
       "    }\n",
       "\n",
       "    .dataframe tbody tr th {\n",
       "        vertical-align: top;\n",
       "    }\n",
       "\n",
       "    .dataframe thead th {\n",
       "        text-align: right;\n",
       "    }\n",
       "</style>\n",
       "<table border=\"1\" class=\"dataframe\">\n",
       "  <thead>\n",
       "    <tr style=\"text-align: right;\">\n",
       "      <th></th>\n",
       "      <th>Date</th>\n",
       "      <th>Time</th>\n",
       "      <th>Booking ID</th>\n",
       "      <th>Booking Status</th>\n",
       "      <th>Customer ID</th>\n",
       "      <th>Vehicle Type</th>\n",
       "      <th>Pickup Location</th>\n",
       "      <th>Drop Location</th>\n",
       "      <th>Avg VTAT</th>\n",
       "      <th>Avg CTAT</th>\n",
       "      <th>...</th>\n",
       "      <th>Reason for cancelling by Customer</th>\n",
       "      <th>Cancelled Rides by Driver</th>\n",
       "      <th>Driver Cancellation Reason</th>\n",
       "      <th>Incomplete Rides</th>\n",
       "      <th>Incomplete Rides Reason</th>\n",
       "      <th>Booking Value</th>\n",
       "      <th>Ride Distance</th>\n",
       "      <th>Driver Ratings</th>\n",
       "      <th>Customer Rating</th>\n",
       "      <th>Payment Method</th>\n",
       "    </tr>\n",
       "  </thead>\n",
       "  <tbody>\n",
       "    <tr>\n",
       "      <th>0</th>\n",
       "      <td>2024-03-23</td>\n",
       "      <td>12:29:38</td>\n",
       "      <td>\"CNR5884300\"</td>\n",
       "      <td>No Driver Found</td>\n",
       "      <td>\"CID1982111\"</td>\n",
       "      <td>eBike</td>\n",
       "      <td>Palam Vihar</td>\n",
       "      <td>Jhilmil</td>\n",
       "      <td>NaN</td>\n",
       "      <td>NaN</td>\n",
       "      <td>...</td>\n",
       "      <td>NaN</td>\n",
       "      <td>NaN</td>\n",
       "      <td>NaN</td>\n",
       "      <td>NaN</td>\n",
       "      <td>NaN</td>\n",
       "      <td>NaN</td>\n",
       "      <td>NaN</td>\n",
       "      <td>NaN</td>\n",
       "      <td>NaN</td>\n",
       "      <td>NaN</td>\n",
       "    </tr>\n",
       "    <tr>\n",
       "      <th>1</th>\n",
       "      <td>2024-11-29</td>\n",
       "      <td>18:01:39</td>\n",
       "      <td>\"CNR1326809\"</td>\n",
       "      <td>Incomplete</td>\n",
       "      <td>\"CID4604802\"</td>\n",
       "      <td>Go Sedan</td>\n",
       "      <td>Shastri Nagar</td>\n",
       "      <td>Gurgaon Sector 56</td>\n",
       "      <td>4.9</td>\n",
       "      <td>14.0</td>\n",
       "      <td>...</td>\n",
       "      <td>NaN</td>\n",
       "      <td>NaN</td>\n",
       "      <td>NaN</td>\n",
       "      <td>1.0</td>\n",
       "      <td>Vehicle Breakdown</td>\n",
       "      <td>237.0</td>\n",
       "      <td>5.73</td>\n",
       "      <td>NaN</td>\n",
       "      <td>NaN</td>\n",
       "      <td>UPI</td>\n",
       "    </tr>\n",
       "    <tr>\n",
       "      <th>2</th>\n",
       "      <td>2024-08-23</td>\n",
       "      <td>08:56:10</td>\n",
       "      <td>\"CNR8494506\"</td>\n",
       "      <td>Completed</td>\n",
       "      <td>\"CID9202816\"</td>\n",
       "      <td>Auto</td>\n",
       "      <td>Khandsa</td>\n",
       "      <td>Malviya Nagar</td>\n",
       "      <td>13.4</td>\n",
       "      <td>25.8</td>\n",
       "      <td>...</td>\n",
       "      <td>NaN</td>\n",
       "      <td>NaN</td>\n",
       "      <td>NaN</td>\n",
       "      <td>NaN</td>\n",
       "      <td>NaN</td>\n",
       "      <td>627.0</td>\n",
       "      <td>13.58</td>\n",
       "      <td>4.9</td>\n",
       "      <td>4.9</td>\n",
       "      <td>Debit Card</td>\n",
       "    </tr>\n",
       "    <tr>\n",
       "      <th>3</th>\n",
       "      <td>2024-10-21</td>\n",
       "      <td>17:17:25</td>\n",
       "      <td>\"CNR8906825\"</td>\n",
       "      <td>Completed</td>\n",
       "      <td>\"CID2610914\"</td>\n",
       "      <td>Premier Sedan</td>\n",
       "      <td>Central Secretariat</td>\n",
       "      <td>Inderlok</td>\n",
       "      <td>13.1</td>\n",
       "      <td>28.5</td>\n",
       "      <td>...</td>\n",
       "      <td>NaN</td>\n",
       "      <td>NaN</td>\n",
       "      <td>NaN</td>\n",
       "      <td>NaN</td>\n",
       "      <td>NaN</td>\n",
       "      <td>416.0</td>\n",
       "      <td>34.02</td>\n",
       "      <td>4.6</td>\n",
       "      <td>5.0</td>\n",
       "      <td>UPI</td>\n",
       "    </tr>\n",
       "    <tr>\n",
       "      <th>4</th>\n",
       "      <td>2024-09-16</td>\n",
       "      <td>22:08:00</td>\n",
       "      <td>\"CNR1950162\"</td>\n",
       "      <td>Completed</td>\n",
       "      <td>\"CID9933542\"</td>\n",
       "      <td>Bike</td>\n",
       "      <td>Ghitorni Village</td>\n",
       "      <td>Khan Market</td>\n",
       "      <td>5.3</td>\n",
       "      <td>19.6</td>\n",
       "      <td>...</td>\n",
       "      <td>NaN</td>\n",
       "      <td>NaN</td>\n",
       "      <td>NaN</td>\n",
       "      <td>NaN</td>\n",
       "      <td>NaN</td>\n",
       "      <td>737.0</td>\n",
       "      <td>48.21</td>\n",
       "      <td>4.1</td>\n",
       "      <td>4.3</td>\n",
       "      <td>UPI</td>\n",
       "    </tr>\n",
       "  </tbody>\n",
       "</table>\n",
       "<p>5 rows × 21 columns</p>\n",
       "</div>"
      ],
      "text/plain": [
       "         Date      Time    Booking ID   Booking Status   Customer ID  \\\n",
       "0  2024-03-23  12:29:38  \"CNR5884300\"  No Driver Found  \"CID1982111\"   \n",
       "1  2024-11-29  18:01:39  \"CNR1326809\"       Incomplete  \"CID4604802\"   \n",
       "2  2024-08-23  08:56:10  \"CNR8494506\"        Completed  \"CID9202816\"   \n",
       "3  2024-10-21  17:17:25  \"CNR8906825\"        Completed  \"CID2610914\"   \n",
       "4  2024-09-16  22:08:00  \"CNR1950162\"        Completed  \"CID9933542\"   \n",
       "\n",
       "    Vehicle Type      Pickup Location      Drop Location  Avg VTAT  Avg CTAT  \\\n",
       "0          eBike          Palam Vihar            Jhilmil       NaN       NaN   \n",
       "1       Go Sedan        Shastri Nagar  Gurgaon Sector 56       4.9      14.0   \n",
       "2           Auto              Khandsa      Malviya Nagar      13.4      25.8   \n",
       "3  Premier Sedan  Central Secretariat           Inderlok      13.1      28.5   \n",
       "4           Bike     Ghitorni Village        Khan Market       5.3      19.6   \n",
       "\n",
       "   ...  Reason for cancelling by Customer Cancelled Rides by Driver  \\\n",
       "0  ...                                NaN                       NaN   \n",
       "1  ...                                NaN                       NaN   \n",
       "2  ...                                NaN                       NaN   \n",
       "3  ...                                NaN                       NaN   \n",
       "4  ...                                NaN                       NaN   \n",
       "\n",
       "   Driver Cancellation Reason Incomplete Rides  Incomplete Rides Reason  \\\n",
       "0                         NaN              NaN                      NaN   \n",
       "1                         NaN              1.0        Vehicle Breakdown   \n",
       "2                         NaN              NaN                      NaN   \n",
       "3                         NaN              NaN                      NaN   \n",
       "4                         NaN              NaN                      NaN   \n",
       "\n",
       "  Booking Value  Ride Distance  Driver Ratings  Customer Rating  \\\n",
       "0           NaN            NaN             NaN              NaN   \n",
       "1         237.0           5.73             NaN              NaN   \n",
       "2         627.0          13.58             4.9              4.9   \n",
       "3         416.0          34.02             4.6              5.0   \n",
       "4         737.0          48.21             4.1              4.3   \n",
       "\n",
       "   Payment Method  \n",
       "0             NaN  \n",
       "1             UPI  \n",
       "2      Debit Card  \n",
       "3             UPI  \n",
       "4             UPI  \n",
       "\n",
       "[5 rows x 21 columns]"
      ]
     },
     "execution_count": 66,
     "metadata": {},
     "output_type": "execute_result"
    }
   ],
   "source": [
    "import pandas as pd\n",
    "\n",
    "df = pd.read_csv(\"uber_rides.csv\")\n",
    "\n",
    "df.head()"
   ]
  },
  {
   "cell_type": "code",
   "execution_count": 67,
   "id": "d2e883fa",
   "metadata": {},
   "outputs": [
    {
     "name": "stdout",
     "output_type": "stream",
     "text": [
      "Total number of unique rides are 148767 out of 150000 rides.\n",
      "<class 'pandas.core.frame.DataFrame'>\n",
      "Index: 148767 entries, 0 to 149999\n",
      "Data columns (total 22 columns):\n",
      " #   Column                             Non-Null Count   Dtype         \n",
      "---  ------                             --------------   -----         \n",
      " 0   Date                               148767 non-null  object        \n",
      " 1   Time                               148767 non-null  object        \n",
      " 2   Booking ID                         148767 non-null  object        \n",
      " 3   Booking Status                     148767 non-null  object        \n",
      " 4   Customer ID                        148767 non-null  object        \n",
      " 5   Vehicle Type                       148767 non-null  object        \n",
      " 6   Pickup Location                    148767 non-null  object        \n",
      " 7   Drop Location                      148767 non-null  object        \n",
      " 8   Avg VTAT                           138366 non-null  float64       \n",
      " 9   Avg CTAT                           101175 non-null  float64       \n",
      " 10  Cancelled Rides by Customer        10402 non-null   float64       \n",
      " 11  Reason for cancelling by Customer  10402 non-null   object        \n",
      " 12  Cancelled Rides by Driver          26789 non-null   float64       \n",
      " 13  Driver Cancellation Reason         26789 non-null   object        \n",
      " 14  Incomplete Rides                   8927 non-null    float64       \n",
      " 15  Incomplete Rides Reason            8927 non-null    object        \n",
      " 16  Booking Value                      101175 non-null  float64       \n",
      " 17  Ride Distance                      101175 non-null  float64       \n",
      " 18  Driver Ratings                     92248 non-null   float64       \n",
      " 19  Customer Rating                    92248 non-null   float64       \n",
      " 20  Payment Method                     101175 non-null  object        \n",
      " 21  DateTime                           148767 non-null  datetime64[ns]\n",
      "dtypes: datetime64[ns](1), float64(9), object(12)\n",
      "memory usage: 26.1+ MB\n"
     ]
    }
   ],
   "source": [
    "print(\"Total number of unique rides are {} out of {} rides.\".format(len(df['Booking ID'].unique()), len(df)))\n",
    "\n",
    "## Remove duplicated & invalid rides\n",
    "df.dropna(subset=['Booking ID'], inplace=True)\n",
    "df.drop_duplicates(subset=['Booking ID'], inplace=True)\n",
    "\n",
    "## Combine Date & Time and convert to appropriate type\n",
    "df['DateTime'] = pd.to_datetime(df['Date'] + ' ' + df['Time'])\n",
    "df.info()"
   ]
  },
  {
   "cell_type": "markdown",
   "id": "d2856681",
   "metadata": {},
   "source": [
    "###Data Investigation"
   ]
  },
  {
   "cell_type": "code",
   "execution_count": 76,
   "id": "2f69db23",
   "metadata": {},
   "outputs": [
    {
     "data": {
      "text/plain": [
       "Booking Status\n",
       "Completed                92248\n",
       "Cancelled by Driver      26789\n",
       "Cancelled by Customer    10402\n",
       "No Driver Found          10401\n",
       "Incomplete                8927\n",
       "Name: count, dtype: int64"
      ]
     },
     "execution_count": 76,
     "metadata": {},
     "output_type": "execute_result"
    }
   ],
   "source": [
    "df['Booking Status'].value_counts(dropna=False)"
   ]
  },
  {
   "cell_type": "code",
   "execution_count": 77,
   "id": "c3bbdb75",
   "metadata": {},
   "outputs": [
    {
     "data": {
      "text/plain": [
       "Booking Status\n",
       "Completed                62.008376\n",
       "Cancelled by Driver      18.007354\n",
       "Cancelled by Customer     6.992142\n",
       "No Driver Found           6.991470\n",
       "Incomplete                6.000659\n",
       "Name: proportion, dtype: float64"
      ]
     },
     "execution_count": 77,
     "metadata": {},
     "output_type": "execute_result"
    }
   ],
   "source": [
    "df['Booking Status'].value_counts(normalize=True, dropna=False) * 100"
   ]
  },
  {
   "cell_type": "code",
   "execution_count": 70,
   "id": "98e8bd92",
   "metadata": {},
   "outputs": [
    {
     "data": {
      "text/plain": [
       "Cancelled Rides by Customer\n",
       "1.0    10402\n",
       "Name: count, dtype: int64"
      ]
     },
     "execution_count": 70,
     "metadata": {},
     "output_type": "execute_result"
    }
   ],
   "source": [
    "df['Cancelled Rides by Customer'].value_counts()"
   ]
  },
  {
   "cell_type": "code",
   "execution_count": 71,
   "id": "1b19da84",
   "metadata": {},
   "outputs": [
    {
     "data": {
      "text/plain": [
       "Cancelled Rides by Driver\n",
       "1.0    26789\n",
       "Name: count, dtype: int64"
      ]
     },
     "execution_count": 71,
     "metadata": {},
     "output_type": "execute_result"
    }
   ],
   "source": [
    "df['Cancelled Rides by Driver'].value_counts()"
   ]
  },
  {
   "cell_type": "code",
   "execution_count": 72,
   "id": "fd39ef8a",
   "metadata": {},
   "outputs": [
    {
     "data": {
      "text/plain": [
       "Cancelled_Flag\n",
       "1.0    37191\n",
       "Name: count, dtype: int64"
      ]
     },
     "execution_count": 72,
     "metadata": {},
     "output_type": "execute_result"
    }
   ],
   "source": [
    "def is_cancel(row):\n",
    "    if row['Cancelled Rides by Customer'] == 1:\n",
    "        return 1\n",
    "    elif row['Cancelled Rides by Driver'] == 1:\n",
    "        return 1\n",
    "    else:\n",
    "        return None\n",
    "\n",
    "df['Cancelled_Flag'] = df.apply(is_cancel, axis=1)\n",
    "df['Cancelled_Flag'].value_counts()"
   ]
  },
  {
   "cell_type": "code",
   "execution_count": 73,
   "id": "20a09e7e",
   "metadata": {},
   "outputs": [
    {
     "data": {
      "text/plain": [
       "Customer Cancellation Reason\n",
       "Wrong Address                                   2348\n",
       "Change of plans                                 2326\n",
       "Driver is not moving towards pickup location    2315\n",
       "Driver asked to cancel                          2274\n",
       "AC is not working                               1139\n",
       "Name: count, dtype: int64"
      ]
     },
     "execution_count": 73,
     "metadata": {},
     "output_type": "execute_result"
    }
   ],
   "source": [
    "df.rename(columns={\"Reason for cancelling by Customer\": \"Customer Cancellation Reason\"}, inplace=True)\n",
    "df[df['Cancelled Rides by Customer']==1][\"Customer Cancellation Reason\"].value_counts(dropna=False)"
   ]
  },
  {
   "cell_type": "code",
   "execution_count": 74,
   "id": "5db10be5",
   "metadata": {},
   "outputs": [
    {
     "data": {
      "text/plain": [
       "Driver Cancellation Reason\n",
       "Customer related issue                 6777\n",
       "The customer was coughing/sick         6693\n",
       "Personal & Car related issues          6675\n",
       "More than permitted people in there    6644\n",
       "Name: count, dtype: int64"
      ]
     },
     "execution_count": 74,
     "metadata": {},
     "output_type": "execute_result"
    }
   ],
   "source": [
    "df['Driver Cancellation Reason'].unique()\n",
    "df[df['Cancelled Rides by Driver']==1][\"Driver Cancellation Reason\"].value_counts(dropna=False)"
   ]
  },
  {
   "cell_type": "code",
   "execution_count": 78,
   "id": "7dc0ec69",
   "metadata": {},
   "outputs": [
    {
     "data": {
      "text/plain": [
       "count    37191.000000\n",
       "mean         8.901199\n",
       "std          3.899196\n",
       "min          3.000000\n",
       "25%          5.900000\n",
       "50%          8.400000\n",
       "75%         11.000000\n",
       "max         20.000000\n",
       "Name: Avg VTAT, dtype: float64"
      ]
     },
     "execution_count": 78,
     "metadata": {},
     "output_type": "execute_result"
    }
   ],
   "source": [
    "## Avg VTAT represents average time for driver to reach pickup location (in minutes)\n",
    "df[df['Cancelled_Flag']==1][\"Avg VTAT\"].describe()"
   ]
  }
 ],
 "metadata": {
  "kernelspec": {
   "display_name": "venv",
   "language": "python",
   "name": "python3"
  },
  "language_info": {
   "codemirror_mode": {
    "name": "ipython",
    "version": 3
   },
   "file_extension": ".py",
   "mimetype": "text/x-python",
   "name": "python",
   "nbconvert_exporter": "python",
   "pygments_lexer": "ipython3",
   "version": "3.13.1"
  }
 },
 "nbformat": 4,
 "nbformat_minor": 5
}
